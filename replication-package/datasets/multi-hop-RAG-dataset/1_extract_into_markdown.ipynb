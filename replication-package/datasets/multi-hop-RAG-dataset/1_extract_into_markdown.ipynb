{
 "cells": [
  {
   "metadata": {
    "ExecuteTime": {
     "end_time": "2025-07-23T10:39:32.557436Z",
     "start_time": "2025-07-23T10:39:32.525615Z"
    }
   },
   "cell_type": "code",
   "source": [
    "import json\n",
    "import csv\n",
    "\n",
    "def convert_and_save_csv(input_json_path, output_json_path):\n",
    "    \"\"\"\n",
    "    Convert input JSON to a format:\n",
    "    { \"user_input\": \"...\", \"reference\": \"...\", \"response\": \"\", \"retrieved_contexts\": \"\" }\n",
    "    \"\"\"\n",
    "    try:\n",
    "        # Read input JSON\n",
    "        with open(input_json_path, 'r', encoding='utf-8') as f:\n",
    "            data = json.load(f)\n",
    "\n",
    "        # Print first entry to understand its structure\n",
    "        if data and len(data) > 0:\n",
    "            print(\"First entry keys:\", list(data[0].keys()))\n",
    "            print(\"Sample data:\", data[0])\n",
    "\n",
    "        # Possible field mappings (try different common field names)\n",
    "        question_fields = [\"user_input\", \"question\", \"query\", \"input\", \"q\"]\n",
    "        answer_fields = [\"reference\", \"answer\", \"ground_truth\", \"target\", \"a\"]\n",
    "\n",
    "        # Convert to required format\n",
    "        formatted_data = []\n",
    "        for entry in data:\n",
    "            # Find the question field\n",
    "            question_value = \"\"\n",
    "            for field in question_fields:\n",
    "                if field in entry:\n",
    "                    question_value = entry[field]\n",
    "                    break\n",
    "\n",
    "            # Find the reference/answer field\n",
    "            reference_value = \"\"\n",
    "            for field in answer_fields:\n",
    "                if field in entry:\n",
    "                    reference_value = entry[field]\n",
    "                    break\n",
    "\n",
    "            formatted_entry = {\n",
    "                \"user_input\": question_value,\n",
    "                \"reference\": reference_value,\n",
    "                \"response\": \"\",\n",
    "                \"retrieved_contexts\": \"\"\n",
    "            }\n",
    "            formatted_data.append(formatted_entry)\n",
    "\n",
    "        # Print sample of formatted data\n",
    "        if formatted_data and len(formatted_data) > 0:\n",
    "            print(\"First entry after formatting:\", formatted_data[0])\n",
    "\n",
    "        # Write output JSON\n",
    "        with open(output_json_path, 'w', encoding='utf-8') as f:\n",
    "            json.dump(formatted_data, f, indent=2, ensure_ascii=False)\n",
    "\n",
    "        print(f\"Successfully converted and saved to {output_json_path}\")\n",
    "\n",
    "    except Exception as e:\n",
    "        print(f\"Error processing file: {e}\")\n",
    "\n",
    "# Example usage\n",
    "if __name__ == \"__main__\":\n",
    "    convert_and_save_csv(\"given_dataset/MultiHopRAG.json\", \"ragas_ready_data.json\")\n"
   ],
   "id": "c9d266d97e179ec6",
   "outputs": [
    {
     "name": "stdout",
     "output_type": "stream",
     "text": [
      "First entry keys: ['query', 'answer', 'question_type', 'evidence_list']\n",
      "Sample data: {'query': 'Who is the individual associated with the cryptocurrency industry facing a criminal trial on fraud and conspiracy charges, as reported by both The Verge and TechCrunch, and is accused by prosecutors of committing fraud for personal gain?', 'answer': 'Sam Bankman-Fried', 'question_type': 'inference_query', 'evidence_list': [{'title': 'The FTX trial is bigger than Sam Bankman-Fried', 'author': 'Elizabeth Lopatto', 'url': 'https://www.theverge.com/2023/9/28/23893269/ftx-sam-bankman-fried-trial-evidence-crypto', 'source': 'The Verge', 'category': 'technology', 'published_at': '2023-09-28T12:00:00+00:00', 'fact': 'Before his fall, Bankman-Fried made himself out to be the Good Boy of crypto — the trustworthy face of a sometimes-shady industry.'}, {'title': 'SBF’s trial starts soon, but how did he — and FTX — get here?', 'author': 'Jacquelyn Melinek', 'url': 'https://techcrunch.com/2023/10/01/ftx-lawsuit-timeline/', 'source': 'TechCrunch', 'category': 'technology', 'published_at': '2023-10-01T14:00:29+00:00', 'fact': 'The highly anticipated criminal trial for Sam Bankman-Fried, former CEO of bankrupt crypto exchange FTX, started Tuesday to determine whether he’s guilty of seven counts of fraud and conspiracy.'}, {'title': 'Sam Altman backs teens’ startup, Google unveils the Pixel 8 and TikTok tests an ad-free tier', 'author': 'Kyle Wiggers', 'url': 'https://techcrunch.com/2023/10/07/sam-altman-backs-a-teens-startup-google-unveils-the-pixel-8-and-tiktok-tests-an-ad-free-tier/', 'source': 'TechCrunch', 'category': 'technology', 'published_at': '2023-10-07T20:15:26+00:00', 'fact': 'The prosecution painted Bankman-Fried as someone who knowingly committed fraud to achieve great wealth, power and influence, while the defense countered that the FTX founder acted in good faith, never meant to commit fraud or steal and basically got in over his head.'}]}\n",
      "First entry after formatting: {'user_input': 'Who is the individual associated with the cryptocurrency industry facing a criminal trial on fraud and conspiracy charges, as reported by both The Verge and TechCrunch, and is accused by prosecutors of committing fraud for personal gain?', 'reference': 'Sam Bankman-Fried', 'response': '', 'retrieved_contexts': ''}\n",
      "Successfully converted and saved to ragas_ready_data.json\n"
     ]
    }
   ],
   "execution_count": 12
  }
 ],
 "metadata": {
  "kernelspec": {
   "display_name": "Python 3",
   "language": "python",
   "name": "python3"
  },
  "language_info": {
   "codemirror_mode": {
    "name": "ipython",
    "version": 2
   },
   "file_extension": ".py",
   "mimetype": "text/x-python",
   "name": "python",
   "nbconvert_exporter": "python",
   "pygments_lexer": "ipython2",
   "version": "2.7.6"
  }
 },
 "nbformat": 4,
 "nbformat_minor": 5
}
