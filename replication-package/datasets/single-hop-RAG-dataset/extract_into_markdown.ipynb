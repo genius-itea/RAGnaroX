{
 "cells": [
  {
   "cell_type": "code",
   "execution_count": 1,
   "id": "2c292448",
   "metadata": {
    "ExecuteTime": {
     "end_time": "2025-07-23T07:51:49.817831Z",
     "start_time": "2025-07-23T07:51:49.813086Z"
    }
   },
   "outputs": [],
   "source": [
    "import csv\n",
    "import os\n",
    "from collections import defaultdict\n",
    "import csv\n",
    "import random\n",
    "import json"
   ]
  },
  {
   "cell_type": "code",
   "execution_count": 2,
   "id": "initial_id",
   "metadata": {
    "ExecuteTime": {
     "end_time": "2025-07-23T07:51:50.291851Z",
     "start_time": "2025-07-23T07:51:49.901063Z"
    },
    "collapsed": true
   },
   "outputs": [
    {
     "name": "stdout",
     "output_type": "stream",
     "text": [
      "Created 442 markdown files in ./corpus\n"
     ]
    }
   ],
   "source": [
    "\n",
    "\n",
    "corpus_dir = './corpus'\n",
    "os.makedirs(corpus_dir, exist_ok=True)\n",
    "contexts = defaultdict(set)\n",
    "\n",
    "with open('./dataset/SQuAD-v1.1.csv', encoding='utf-8') as f:\n",
    "    reader = csv.DictReader(f)\n",
    "    for row in reader:\n",
    "        title = row['title'].strip()\n",
    "        context = row['context'].strip()\n",
    "        contexts[title].add(context)\n",
    "\n",
    "for title, ctxs in contexts.items():\n",
    "    safe_title = \"\".join(\n",
    "        c if c.isalnum() or c in \"._-\" else \"_\" for c in title)\n",
    "    file_path = os.path.join(corpus_dir, f\"{safe_title}.md\")\n",
    "    with open(file_path, 'w', encoding='utf-8') as out:\n",
    "        out.write(f\"# {title}\\n\\n\")\n",
    "        out.write('\\n\\n'.join(sorted(ctxs)))\n",
    "\n",
    "print(f\"Created {len(contexts)} markdown files in {corpus_dir}\")"
   ]
  },
  {
   "cell_type": "code",
   "execution_count": 3,
   "id": "476a8969",
   "metadata": {
    "ExecuteTime": {
     "end_time": "2025-07-23T07:51:50.704718Z",
     "start_time": "2025-07-23T07:51:50.364154Z"
    }
   },
   "outputs": [
    {
     "name": "stdout",
     "output_type": "stream",
     "text": [
      "Saved 1000 random questions to ./qa_pairs_single_hop.json\n"
     ]
    }
   ],
   "source": [
    "\n",
    "\n",
    "# Read all questions from the CSV (use the full file if possible, or the .head.csv for a sample)\n",
    "rows = []\n",
    "with open('dataset/SQuAD-v1.1.csv', encoding='utf-8') as f:\n",
    "    reader = csv.DictReader(f)\n",
    "    for row in reader:\n",
    "        rows.append(row)\n",
    "\n",
    "# Randomly sample 100 questions\n",
    "sample = random.sample(rows, 1000)\n",
    "\n",
    "# Format as required\n",
    "result = []\n",
    "for row in sample:\n",
    "    result.append({\n",
    "        \"user_input\": row[\"question\"],\n",
    "        \"reference\": row[\"answer\"],\n",
    "        \"response\": \"\",\n",
    "        \"retrieved_contexts\": \"\"\n",
    "    })\n",
    "\n",
    "# Save to JSON file\n",
    "with open('qa_pairs_single_hop.json', 'w', encoding='utf-8') as f:\n",
    "    json.dump(result, f, indent=2, ensure_ascii=False)\n",
    "\n",
    "print(\"Saved 1000 random questions to ./qa_pairs_single_hop.json\")"
   ]
  },
  {
   "cell_type": "code",
   "execution_count": null,
   "id": "e0aaa594",
   "metadata": {
    "ExecuteTime": {
     "end_time": "2025-07-23T07:51:50.710682Z",
     "start_time": "2025-07-23T07:51:50.709632Z"
    }
   },
   "outputs": [],
   "source": []
  }
 ],
 "metadata": {
  "kernelspec": {
   "display_name": "Python 3",
   "language": "python",
   "name": "python3"
  },
  "language_info": {
   "codemirror_mode": {
    "name": "ipython",
    "version": 3
   },
   "file_extension": ".py",
   "mimetype": "text/x-python",
   "name": "python",
   "nbconvert_exporter": "python",
   "pygments_lexer": "ipython3",
   "version": "3.9.6"
  }
 },
 "nbformat": 4,
 "nbformat_minor": 5
}
