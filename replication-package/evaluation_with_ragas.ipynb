{
 "cells": [
  {
   "cell_type": "markdown",
   "id": "2ce4405d",
   "metadata": {},
   "source": [
    "# Setup and Execution Guide RAGAS\n",
    "\n",
    "This notebook evaluates RAG performance with the RAGAS framework.\n",
    "\n",
    "1. **API Key**\n",
    "\n",
    "   * Create a `.env` file in the project root\n",
    "   * Add: `OPENAI_API_KEY=your_key_here`\n",
    "\n",
    "2. **Input Data**\n",
    "\n",
    "   * Provide a JSON file with generated answers from RAGnaroX\n",
    "   * Must include: `user_input`, `response`, `retrieved_contexts`, `reference` \n",
    "   * Typically stored in `results/` \n",
    "\n",
    "3. **Configuration (Cell 3)**\n",
    "\n",
    "   * `dataset_folder`: path to results\n",
    "   * `output_json`: JSON filename\n",
    "   * `n`: number of entries to evaluate\n",
    "\n",
    "4. **Output**\n",
    "\n",
    "   * Console: metrics (Context Precision/Recall, Faithfulness, Answer Relevancy)\n",
    "   * File: results appended to `results.md`"
   ]
  },
  {
   "cell_type": "code",
   "execution_count": null,
   "id": "a80c1133b1edd317",
   "metadata": {
    "ExecuteTime": {
     "end_time": "2025-08-26T20:47:58.309126Z",
     "start_time": "2025-08-26T20:47:58.302551Z"
    }
   },
   "outputs": [],
   "source": [
    "import os, json\n",
    "from ragas.llms import LangchainLLMWrapper\n",
    "from ragas import evaluate, EvaluationDataset\n",
    "from langchain_openai import ChatOpenAI\n",
    "from dotenv import load_dotenv\n",
    "\n",
    "load_dotenv(dotenv_path=\"./.env\")\n",
    "\n",
    "# Print the loaded API key for debugging\n",
    "openai_api_key = os.environ.get('OPENAI_API_KEY')\n",
    "print(f\"OPENAI_API_KEY loaded: {openai_api_key}\")\n",
    "if not openai_api_key:\n",
    "    raise ValueError(\"OPENAI_API_KEY not found in environment variables\") # Set your key here or via environment"
   ]
  },
  {
   "cell_type": "code",
   "execution_count": null,
   "id": "43250760d48a346f",
   "metadata": {
    "ExecuteTime": {
     "end_time": "2025-08-26T21:50:29.554700Z",
     "start_time": "2025-08-26T21:24:21.487612Z"
    }
   },
   "outputs": [],
   "source": [
    "# Set your dataset folder here (e.g. 'single-hop-RAG-dataset', 'multi-hop-RAG-dataset', 'lang-RAG-dataset')\n",
    "dataset_folder = 'results'  # Change as needed\n",
    "output_json = 'single_qwen30B_multi5_bge.json'  # Change as needed\n",
    "output_json_path = os.path.join(dataset_folder, output_json)\n",
    "results_md_path = os.path.join(dataset_folder, 'results.md')\n",
    "\n",
    "llm = ChatOpenAI(model='gpt-4o-mini')\n",
    "\n",
    "evaluator_llm = LangchainLLMWrapper(llm)\n",
    "with open(output_json_path, 'r', encoding='utf-8') as f:\n",
    "    evaluation_dataset = json.load(f)\n",
    "n = 1000  # Change as needed\n",
    "evaluation_dataset = evaluation_dataset[:n]\n",
    "evaluation_dataset = EvaluationDataset.from_list(evaluation_dataset)\n",
    "print(f'Evaluation dataset loaded with {len(evaluation_dataset)} entries.')\n",
    "result = evaluate(dataset=evaluation_dataset, llm=evaluator_llm)\n",
    "print(result)"
   ]
  },
  {
   "cell_type": "code",
   "execution_count": null,
   "id": "2917e8bd",
   "metadata": {
    "ExecuteTime": {
     "end_time": "2025-08-26T20:47:35.884183Z",
     "start_time": "2025-08-26T20:34:49.899260Z"
    }
   },
   "outputs": [],
   "source": [
    "with open(results_md_path, 'a', encoding='utf-8') as f:\n",
    "    f.write(f'## Results for {dataset_folder}\\n')\n",
    "    for metric, value in result.items():\n",
    "        f.write(f'- {metric}: {value}\\n')\n",
    "    f.write('\\n')\n",
    "print(f'Results for {dataset_folder} saved to {results_md_path}')"
   ]
  }
 ],
 "metadata": {
  "kernelspec": {
   "display_name": "Python 3",
   "language": "python",
   "name": "python3"
  },
  "language_info": {
   "codemirror_mode": {
    "name": "ipython",
    "version": 3
   },
   "file_extension": ".py",
   "mimetype": "text/x-python",
   "name": "python",
   "nbconvert_exporter": "python",
   "pygments_lexer": "ipython3",
   "version": "3.9.6"
  }
 },
 "nbformat": 4,
 "nbformat_minor": 5
}
